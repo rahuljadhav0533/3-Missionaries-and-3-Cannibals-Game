{
  "nbformat": 4,
  "nbformat_minor": 0,
  "metadata": {
    "colab": {
      "provenance": [],
      "authorship_tag": "ABX9TyMD1XCKaZ/9Islcz3l3KnKe",
      "include_colab_link": true
    },
    "kernelspec": {
      "name": "python3",
      "display_name": "Python 3"
    },
    "language_info": {
      "name": "python"
    }
  },
  "cells": [
    {
      "cell_type": "markdown",
      "metadata": {
        "id": "view-in-github",
        "colab_type": "text"
      },
      "source": [
        "<a href=\"https://colab.research.google.com/github/rahuljadhav0533/3-Missionaries-and-3-Cannibals-Game/blob/main/Missionaries_and_Cannibals.ipynb\" target=\"_parent\"><img src=\"https://colab.research.google.com/assets/colab-badge.svg\" alt=\"Open In Colab\"/></a>"
      ]
    },
    {
      "cell_type": "code",
      "execution_count": null,
      "metadata": {
        "id": "iBTdtyfy8YoZ",
        "colab": {
          "base_uri": "https://localhost:8080/"
        },
        "outputId": "0df7b753-3894-48d9-fb4e-0bbffed6ed4d"
      },
      "outputs": [
        {
          "output_type": "stream",
          "name": "stdout",
          "text": [
            "  🌊🌊🌊🌊 🚢 💂💂💂 👹👹👹\n",
            "Enter the missionaries count on boat1\n",
            "Enter the cannibals count on boat1\n",
            "💂 👹 🚢 🌊🌊🌊🌊 💂💂 👹👹\n"
          ]
        }
      ],
      "source": [
        "### Your code ###\n",
        "from IPython.display import clear_output\n",
        "boat_side = \"right\"\n",
        "missionaries_on_right = 3\n",
        "cannibals_on_right = 3\n",
        "missionaries_on_left = 0\n",
        "cannibals_on_left = 0\n",
        "# print('M =',missionaries_on_left , 'C =',cannibals_on_left, '|-----B|', 'M =',missionaries_on_right, \"C =\",cannibals_on_right)\n",
        "print('\\U0001f482'*missionaries_on_left, '\\U0001f479'*cannibals_on_left ,'\\U0001f30a'*4 , '\\U0001f6A2'*1,'\\U0001f482'*missionaries_on_right,'\\U0001f479'*cannibals_on_right)\n",
        "while True:\n",
        "    missionaries = int(input(\"Enter the missionaries count on boat\"))\n",
        "    cannibals = int(input(\"Enter the cannibals count on boat\"))\n",
        "    if missionaries+ cannibals<0 or missionaries+ cannibals>2 :\n",
        "     print(\"Invalid move 1\")\n",
        "     continue\n",
        "\n",
        "    if boat_side == \"right\":\n",
        "\n",
        "      if missionaries > missionaries_on_right or cannibals> cannibals_on_right:\n",
        "        print(\"Invalid move 2\")\n",
        "        continue\n",
        "\n",
        "      missionaries_on_right = missionaries_on_right - missionaries\n",
        "      cannibals_on_right = cannibals_on_right - cannibals\n",
        "      missionaries_on_left = missionaries_on_left+missionaries\n",
        "      cannibals_on_left = cannibals_on_left+ cannibals\n",
        "      # print('M =',missionaries_on_left , 'C =',cannibals_on_left, '|B-----|', 'M =',missionaries_on_right, \"C =\",cannibals_on_right)\n",
        "      print('\\U0001f482'*missionaries_on_left, '\\U0001f479'*cannibals_on_left ,'\\U0001f6A2'*1,'\\U0001f30a'*4 ,'\\U0001f482'*missionaries_on_right,'\\U0001f479'*cannibals_on_right)\n",
        "      boat_side = \"left\"\n",
        "    elif boat_side == \"left\":\n",
        "\n",
        "      if missionaries > missionaries_on_left or cannibals> cannibals_on_left:\n",
        "        print(\"Invalid move 2\")\n",
        "        continue\n",
        "\n",
        "      boat_side = \"right\"\n",
        "      missionaries_on_right = missionaries_on_right + missionaries\n",
        "      cannibals_on_right = cannibals_on_right + cannibals\n",
        "      missionaries_on_left = missionaries_on_left-missionaries\n",
        "      cannibals_on_left = cannibals_on_left-cannibals\n",
        "\n",
        "      # print('M =',missionaries_on_left , 'C =',cannibals_on_left, '|-----B|', 'M =',missionaries_on_right, \"C =\",cannibals_on_right)\n",
        "      print('\\U0001f482'*missionaries_on_left, '\\U0001f479'*cannibals_on_left ,'\\U0001f30a'*4 , '\\U0001f6A2'*1,'\\U0001f482'*missionaries_on_right,'\\U0001f479'*cannibals_on_right)\n",
        "\n",
        "\n",
        "    if missionaries_on_left < cannibals_on_left and missionaries_on_left>0:\n",
        "     print(\"YOU LOSE\")\n",
        "     break\n",
        "\n",
        "    if missionaries_on_right < cannibals_on_right and missionaries_on_right>0:\n",
        "     print(\"YOU LOSE\")\n",
        "     break\n",
        "\n",
        "    if missionaries_on_left == 3 and cannibals_on_left == 3:\n",
        "     print(\"YOU WON\")\n",
        "     break\n"
      ]
    },
    {
      "cell_type": "code",
      "source": [],
      "metadata": {
        "id": "N-pBnqI38-wh"
      },
      "execution_count": null,
      "outputs": []
    }
  ]
}